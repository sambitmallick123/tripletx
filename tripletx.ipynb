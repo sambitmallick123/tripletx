{
 "cells": [
  {
   "cell_type": "code",
   "execution_count": 1,
   "metadata": {},
   "outputs": [],
   "source": [
    "\n",
    "import nltk, pandas as pd, numpy as np\n",
    "from nltk.parse.corenlp import CoreNLPParser, CoreNLPDependencyParser\n",
    "from nltk.tree import ParentedTree"
   ]
  },
  {
   "cell_type": "code",
   "execution_count": 2,
   "metadata": {},
   "outputs": [],
   "source": [
    "dep_parser = CoreNLPDependencyParser(url='http://0.0.0.0:9000')\n",
    "pos_tagger = CoreNLPParser(url='http://0.0.0.0:9000', tagtype='pos')"
   ]
  },
  {
   "cell_type": "code",
   "execution_count": 13,
   "metadata": {},
   "outputs": [],
   "source": [
    "def triplet_extraction (input_sent, output=['parse_tree','spo','result']):\n",
    "    # Parse the input sentence with Stanford CoreNLP Parser\n",
    "    pos_type = pos_tagger.tag(input_sent.split())\n",
    "    parse_tree, = ParentedTree.convert(list(pos_tagger.parse(input_sent.split()))[0])\n",
    "    dep_type, = ParentedTree.convert(dep_parser.parse(input_sent.split()))\n",
    "    # Extract subject, predicate and object\n",
    "    subject = extract_subject(parse_tree)\n",
    "    predicate = extract_predicate(parse_tree)\n",
    "    objects = extract_object(parse_tree)\n",
    "    if 'parse_tree' in output:\n",
    "        print('---Parse Tree---')\n",
    "        parse_tree.pretty_print()\n",
    "    if 'spo' in output:\n",
    "        print('---Subject---')\n",
    "        print(subject)\n",
    "        print('---Predicate---')\n",
    "        print(predicate)\n",
    "        print('---Object---')\n",
    "        print(objects)\n",
    "    if 'result' in output:\n",
    "        print('---Result---')\n",
    "        print(' '.join([subject[0], predicate[0], objects[0]]))\n",
    "\n",
    "def extract_subject (parse_tree):\n",
    "    # Extract the first noun found in NP_subtree\n",
    "    subject = []\n",
    "    for s in parse_tree.subtrees(lambda x: x.label() == 'NP'):\n",
    "        for t in s.subtrees(lambda y: y.label().startswith('NN')):\n",
    "            output = [t[0], extract_attr(t)]\n",
    "            # Avoid empty or repeated values\n",
    "            if output != [] and output not in subject:\n",
    "                subject.append(output) \n",
    "    if len(subject) != 0: return subject[0] \n",
    "    else: return ['']\n",
    "\n",
    "def extract_predicate (parse_tree):\n",
    "    # Extract the deepest(last) verb foybd ub VP_subtree\n",
    "    output, predicate = [],[]\n",
    "    for s in parse_tree.subtrees(lambda x: x.label() == 'VP'):\n",
    "        for t in s.subtrees(lambda y: y.label().startswith('VB')):\n",
    "            output = [t[0], extract_attr(t)]\n",
    "            if output != [] and output not in predicate:    \n",
    "                predicate.append(output)\n",
    "    if len(predicate) != 0: return predicate[-1]\n",
    "    else: return ['']\n",
    "\n",
    "def extract_object (parse_tree):\n",
    "    # Extract the first noun or first adjective in NP, PP, ADP siblings of VP_subtree\n",
    "    objects, output, word = [],[],[]\n",
    "    for s in parse_tree.subtrees(lambda x: x.label() == 'VP'):\n",
    "        for t in s.subtrees(lambda y: y.label() in ['NP','PP','ADP']):\n",
    "            if t.label() in ['NP','PP']:\n",
    "                for u in t.subtrees(lambda z: z.label().startswith('NN')):\n",
    "                    word = u          \n",
    "            else:\n",
    "                for u in t.subtrees(lambda z: z.label().startswith('JJ')):\n",
    "                    word = u\n",
    "            if len(word) != 0:\n",
    "                output = [word[0], extract_attr(word)]\n",
    "            if output != [] and output not in objects:\n",
    "                objects.append(output)\n",
    "    if len(objects) != 0: return objects[0]\n",
    "    else: return ['']\n",
    "\n",
    "def extract_attr (word):\n",
    "    attrs = []     \n",
    "    # Search among the word's siblings\n",
    "    if word.label().startswith('JJ'):\n",
    "        for p in word.parent(): \n",
    "            if p.label() == 'RB':\n",
    "                attrs.append(p[0])\n",
    "    elif word.label().startswith('NN'):\n",
    "        for p in word.parent():\n",
    "            if p.label() in ['DT','PRP$','POS','JJ','CD','ADJP','QP','NP']:\n",
    "                attrs.append(p[0])\n",
    "    elif word.label().startswith('VB'):\n",
    "        for p in word.parent():\n",
    "            if p.label() == 'ADVP':\n",
    "                attrs.append(p[0])\n",
    "    # Search among the word's uncles\n",
    "    if word.label().startswith('NN') or word.label().startswith('JJ'):\n",
    "        for p in word.parent().parent():\n",
    "            if p.label() == 'PP' and p != word.parent():\n",
    "                attrs.append(' '.join(p.flatten()))\n",
    "    elif word.label().startswith('VB'):\n",
    "        for p in word.parent().parent():\n",
    "            if p.label().startswith('VB') and p != word.parent():\n",
    "                attrs.append(' '.join(p.flatten()))\n",
    "    return attrs\n"
   ]
  },
  {
   "cell_type": "code",
   "execution_count": 19,
   "metadata": {},
   "outputs": [
    {
     "name": "stdout",
     "output_type": "stream",
     "text": [
      "---Parse Tree---\n",
      "                      S                        \n",
      "       _______________|__________               \n",
      "      |                          VP            \n",
      "      |                __________|___           \n",
      "      |               |              PP        \n",
      "      |               |      ________|___       \n",
      "      NP              |     |            NP    \n",
      "  ____|__________     |     |     _______|___   \n",
      " DT   JJ    JJ   NN  VBD    IN   DT      JJ  NN\n",
      " |    |     |    |    |     |    |       |   |  \n",
      " A  quick brown fox jumped over the     mad dog\n",
      "\n",
      "---Subject---\n",
      "['fox', ['A', 'quick', 'brown']]\n",
      "---Predicate---\n",
      "['jumped', []]\n",
      "---Object---\n",
      "['dog', ['the', 'mad']]\n",
      "---Result---\n",
      "fox jumped dog\n"
     ]
    }
   ],
   "source": [
    "triplet_extraction('A quick brown fox jumped over the mad dog')"
   ]
  },
  {
   "cell_type": "code",
   "execution_count": 18,
   "metadata": {},
   "outputs": [
    {
     "name": "stdout",
     "output_type": "stream",
     "text": [
      "---Parse Tree---\n",
      "                  S                              \n",
      "       ___________|_________                      \n",
      "      |                     VP                   \n",
      "      |            _________|___                  \n",
      "      |           |             VP               \n",
      "      |           |     ________|___              \n",
      "      |           |    |            PP           \n",
      "      |           |    |     _______|___          \n",
      "      NP          |    |    |           NP       \n",
      "  ____|______     |    |    |        ___|____     \n",
      " DT   JJ     NN  VBZ  VBG   TO      DT       NN  \n",
      " |    |      |    |    |    |       |        |    \n",
      " A  German woman  is going  to     the     market\n",
      "\n",
      "---Subject---\n",
      "['woman', ['A', 'German']]\n",
      "---Predicate---\n",
      "['going', ['is']]\n",
      "---Object---\n",
      "['market', ['the']]\n",
      "---Result---\n",
      "woman going market\n"
     ]
    }
   ],
   "source": [
    "triplet_extraction('A German woman is going to the market')"
   ]
  },
  {
   "cell_type": "code",
   "execution_count": 16,
   "metadata": {},
   "outputs": [
    {
     "name": "stdout",
     "output_type": "stream",
     "text": [
      "---Parse Tree---\n",
      "                      S                        \n",
      "       _______________|__________               \n",
      "      |                          VP            \n",
      "      |                __________|___           \n",
      "      |               |              PP        \n",
      "      |               |      ________|___       \n",
      "      NP              |     |            NP    \n",
      "  ____|__________     |     |     _______|___   \n",
      " DT   JJ    JJ   NN  VBD    IN   DT      JJ  NN\n",
      " |    |     |    |    |     |    |       |   |  \n",
      " A  quick brown fox jumped over the     mad dog\n",
      "\n",
      "---Subject---\n",
      "['fox', ['A', 'quick', 'brown']]\n",
      "---Predicate---\n",
      "['jumped', []]\n",
      "---Object---\n",
      "['dog', ['the', 'mad']]\n",
      "---Result---\n",
      "fox jumped dog\n"
     ]
    }
   ],
   "source": []
  },
  {
   "cell_type": "code",
   "execution_count": 22,
   "metadata": {},
   "outputs": [
    {
     "name": "stdout",
     "output_type": "stream",
     "text": [
      "---Parse Tree---\n",
      "                     S                                 \n",
      "             ________|_______________________________   \n",
      "            |                      VP                | \n",
      "            |                 _____|______           |  \n",
      "            NP               |            VP         | \n",
      "   _________|____________    |      ______|____      |  \n",
      "  NP    |       NP       |   |     |           NP    | \n",
      "  |     |    ___|____    |   |     |           |     |  \n",
      "  NN    ,   DT  JJ   NN  ,  VBZ   VBG         NNP    . \n",
      "  |     |   |   |    |   |   |     |           |     |  \n",
      "ruslan  ,   a  nice guy  ,   is managing     JARVIS  . \n",
      "\n",
      "---Subject---\n",
      "['ruslan', []]\n",
      "---Predicate---\n",
      "['managing', ['is']]\n",
      "---Object---\n",
      "['JARVIS', []]\n",
      "---Result---\n",
      "ruslan managing JARVIS\n"
     ]
    }
   ],
   "source": [
    "triplet_extraction('ruslan, a nice guy, is managing JARVIS.')"
   ]
  },
  {
   "cell_type": "code",
   "execution_count": null,
   "metadata": {},
   "outputs": [],
   "source": []
  }
 ],
 "metadata": {
  "kernelspec": {
   "display_name": "Python 3",
   "language": "python",
   "name": "python3"
  },
  "language_info": {
   "codemirror_mode": {
    "name": "ipython",
    "version": 3
   },
   "file_extension": ".py",
   "mimetype": "text/x-python",
   "name": "python",
   "nbconvert_exporter": "python",
   "pygments_lexer": "ipython3",
   "version": "3.7.3"
  }
 },
 "nbformat": 4,
 "nbformat_minor": 2
}
